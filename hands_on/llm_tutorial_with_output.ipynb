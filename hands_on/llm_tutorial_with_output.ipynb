{
 "cells": [
  {
   "cell_type": "markdown",
   "metadata": {},
   "source": [
    "## Stammzelltisch 21.5.2024 - Large language model tutorial"
   ]
  },
  {
   "cell_type": "markdown",
   "metadata": {},
   "source": [
    "## Background\n",
    "* There are a couple of different large language models available\n",
    "    * OpenAI models\n",
    "        * GPT-3.5\n",
    "        * GPT-4.0\n",
    "    * LLama2\n",
    "        * 7, 13, 70 billion parameters\n",
    "        * Here 7 billion parameters, 4-bits --> can be run on laptop with 8 GBs\n",
    "    * Gemma\n",
    "    * ..."
   ]
  },
  {
   "cell_type": "markdown",
   "metadata": {},
   "source": [
    "### Initialize large language model\n",
    "* Important: Ollama server must be running in the background - can be started in a terminal:\n",
    "```\n",
    "ollama serve\n",
    "```"
   ]
  },
  {
   "cell_type": "code",
   "execution_count": 5,
   "metadata": {},
   "outputs": [],
   "source": [
    "from langchain_community.llms import Ollama\n",
    "llm = Ollama(model=\"llama2\")"
   ]
  },
  {
   "cell_type": "markdown",
   "metadata": {},
   "source": [
    "### Query large language model"
   ]
  },
  {
   "cell_type": "code",
   "execution_count": 6,
   "metadata": {},
   "outputs": [
    {
     "name": "stdout",
     "output_type": "stream",
     "text": [
      "\n",
      "Vegan Tiramisu Recipe\n",
      "\n",
      "Tiramisu is a classic Italian dessert made with layers of ladyfingers soaked in coffee and liqueur, topped with a creamy mascarpone cheese mixture. As a vegan, you can easily replicate this dessert using plant-based ingredients that are just as delicious and satisfying. Here's a recipe for a vegan Tiramisu:\n",
      "\n",
      "Ingredients:\n",
      "\n",
      "* 12-16 ladyfingers (you can use any type of cookie or crackers, but ladyfingers work best)\n",
      "* 1 cup strong brewed coffee\n",
      "* 1/4 cup vegan mascarpone cheese (such as Kite Hill or Tofutti)\n",
      "* 1/4 cup non-dairy milk (such as almond or soy milk)\n",
      "* 2 tablespoons unsweetened cocoa powder\n",
      "* 2 tablespoons maple syrup\n",
      "* 1 teaspoon vanilla extract\n",
      "* 1/4 teaspoon salt\n",
      "* 1 cup vegan chocolate chips (such as Enjoy Life or DaVinci)\n",
      "* 1/4 cup chopped nuts (optional)\n",
      "\n",
      "Instructions:\n",
      "\n",
      "1. In a large mixing bowl, combine the coffee and cocoa powder. Stir until well combined.\n",
      "2. In a separate mixing bowl, combine the non-dairy milk, maple syrup, vanilla extract, and salt. Stir until well combined.\n",
      "3. Dip each ladyfinger into the coffee mixture for about 3-5 seconds on each side. They should be soft and pliable but not too wet. If they get too wet, you can air dry them for a few minutes before assembling the Tiramisu.\n",
      "4. In a separate mixing bowl, combine the vegan mascarpone cheese and non-dairy milk. Beat until smooth and creamy.\n",
      "5. To assemble the Tiramisu, start with a layer of ladyfingers in the bottom of a serving dish. You may need to trim the ladyfingers slightly to fit the dish. Top with half of the mascarpone mixture.\n",
      "6. Sprinkle the chocolate chips and chopped nuts (if using) over the top of the mascarpone layer.\n",
      "7. Repeat the layers, starting with the ladyfingers, then the remaining mascarpone mixture, and finally the remaining chocolate chips and nuts (if using).\n",
      "8. Cover the dish with plastic wrap and refrigerate for at least 3 hours or overnight to allow the flavors to meld together.\n",
      "9. Before serving, remove the Tiramisu from the refrigerator and let it sit at room temperature for about 30 minutes to allow it to soften slightly. This will make it easier to cut and serve.\n",
      "10. Cut the Tiramisu into squares or slices and serve. Enjoy!\n",
      "\n",
      "Note: If you want a more intense coffee flavor, you can use espresso powder instead of brewed coffee. Simply mix 1-2 teaspoons of espresso powder with 1/4 cup of non-dairy milk and stir until well combined before soaking the ladyfingers in it.\n"
     ]
    }
   ],
   "source": [
    "print(llm.invoke(\"Please show me a recipe for a vegan Tiramisu!\"))"
   ]
  },
  {
   "cell_type": "markdown",
   "metadata": {},
   "source": [
    "### Modify the behavior by modifying the prompt"
   ]
  },
  {
   "cell_type": "code",
   "execution_count": 7,
   "metadata": {},
   "outputs": [
    {
     "name": "stdout",
     "output_type": "stream",
     "text": [
      "Crikey, mate! Life's a ripper, ain't it? *wink* Well, I reckon it's about findin' yer passion and chasin' after it like a kangaroo in the outback. Y'know what I mean? It's about livin' life to the fullest and makin' the most of every moment. Don't waste time on things that don't matter, mate. Just enjoy the ride and soak up all the sunshine you can get! And always remember: life is a journey, not a destination. So keep on truckin', bruce! 😎\n"
     ]
    }
   ],
   "source": [
    "from langchain_core.prompts import ChatPromptTemplate\n",
    "\n",
    "prompt = ChatPromptTemplate.from_messages([\n",
    "    (\"system\", \"You talk like an Australian guy.\"),\n",
    "    (\"user\", \"{input}\")\n",
    "])\n",
    "\n",
    "chain = prompt | llm \n",
    "print(chain.invoke({\"input\": \"What is life all about?\"}))"
   ]
  },
  {
   "cell_type": "markdown",
   "metadata": {},
   "source": [
    "### Test what the llm knows about stem cell biology"
   ]
  },
  {
   "cell_type": "code",
   "execution_count": 8,
   "metadata": {},
   "outputs": [
    {
     "name": "stdout",
     "output_type": "stream",
     "text": [
      "\n",
      "Stemness is a term used in the field of stem cell biology to describe the unique characteristics and properties of stem cells. Stem cells are a type of cell that has the ability to differentiate into multiple cell types, while maintaining their own identity and self-renewal potential. In other words, stem cells can give rise to different cell types, such as muscle cells, nerve cells, or blood cells, while still retaining their original stem cell identity.\n",
      "\n",
      "The concept of stemness is based on several key properties that define stem cells:\n",
      "\n",
      "1. Self-renewal: Stem cells have the ability to divide and produce more stem cells, maintaining their population in the body.\n",
      "2. Multi-lineage differentiation: Stem cells can differentiate into multiple cell types, such as muscle cells, nerve cells, or blood cells.\n",
      "3. Undifferentiated state: Stem cells are unable to differentiate into a specific cell type until they receive appropriate signals from the body.\n",
      "4. Pluripotency: Stem cells have the ability to give rise to all cell types in the body, including the placenta and other tissues.\n",
      "5. Increased proliferation: Stem cells can divide more quickly than normal somatic cells.\n",
      "6. Ability to migrate: Stem cells can move from one location to another in the body.\n",
      "7. Ability to differentiate into multiple lineages: Stem cells can differentiate into multiple cell types, such as nerve cells, muscle cells, and blood cells.\n",
      "8. Limited expression of cell surface markers: Stem cells express a limited number of cell surface markers compared to more mature cells.\n",
      "9. Ability to maintain their own identity: Stem cells can maintain their own identity even when they differentiate into multiple cell types.\n",
      "10. Ability to form tumors: Stem cells have the ability to form tumors, although this is not a defining characteristic of stem cells.\n",
      "\n",
      "Understanding the concept of stemness is important for understanding how stem cells work and how they can be used in regenerative medicine. By studying stemness, researchers can gain insights into how stem cells differentiate into different cell types, how they maintain their self-renewal capacity, and how they can be manipulated to repair or replace damaged tissues.\n",
      "\n",
      "In summary, the concept of stemness refers to the unique characteristics and properties of stem cells that allow them to differentiate into multiple cell types while maintaining their own identity and self-renewal potential.\n"
     ]
    }
   ],
   "source": [
    "print(llm.invoke(\"Please explain the concept of stemness of stem cells to me!\"))"
   ]
  },
  {
   "cell_type": "code",
   "execution_count": 9,
   "metadata": {},
   "outputs": [
    {
     "name": "stdout",
     "output_type": "stream",
     "text": [
      "\n",
      "Within-tissue plasticity refers to the ability of cells within a tissue or organ to change their position, shape, and function in response to changes in the tissue or organ environment. This concept challenges the traditional view of tissues as rigid, unchanging structures and highlights the dynamic nature of tissue development, homeostasis, and disease.\n",
      "\n",
      "There are several types of within-tissue plasticity, including:\n",
      "\n",
      "1. Cellular plasticity: The ability of individual cells to change their shape, size, and function in response to changes in the tissue environment. For example, fibroblasts in a connective tissue can change into adipocytes or chondrocytes in response to changes in the local microenvironment.\n",
      "2. Tissue reorganization: The ability of cells within a tissue to rearrange themselves in response to changes in the tissue environment. For example, during wound healing, immune cells can migrate from one part of the body to another to help repair damaged tissues.\n",
      "3. Functional plasticity: The ability of cells within a tissue to change their function in response to changes in the tissue environment. For example, neurons in the brain can change their connections and functionality in response to learning and memory processes.\n",
      "4. Molecular plasticity: The ability of molecules within a tissue to change their composition or organization in response to changes in the tissue environment. For example, changes in the expression of genes or proteins in response to hormonal or environmental changes can lead to changes in tissue function.\n",
      "\n",
      "Within-tissue plasticity is thought to be mediated by a variety of mechanisms, including:\n",
      "\n",
      "1. Cell signaling pathways: Signals from neighboring cells or the external environment can trigger changes in gene expression, protein activity, and cell behavior.\n",
      "2. Epigenetic modifications: Changes in DNA methylation, histone modification, or non-coding RNA levels can influence gene expression without altering the underlying DNA sequence.\n",
      "3. Stem cell plasticity: Adult stem cells can differentiate into multiple cell types in response to changes in the tissue environment.\n",
      "4. Mechanical forces: Forces generated by movement or external stimuli can induce changes in tissue structure and function.\n",
      "\n",
      "Understanding within-tissue plasticity has important implications for regenerative medicine, tissue engineering, and disease modeling. By studying how cells and molecules interact within a tissue, researchers can identify new therapeutic targets and develop strategies to promote tissue repair and regeneration after injury or disease.\n"
     ]
    }
   ],
   "source": [
    "print(llm.invoke(\"Please explain the concept of within-tissue plasticity to me!\"))"
   ]
  },
  {
   "cell_type": "markdown",
   "metadata": {},
   "source": [
    "## Use retrieval augmented generation"
   ]
  },
  {
   "cell_type": "code",
   "execution_count": 10,
   "metadata": {},
   "outputs": [],
   "source": [
    "from langchain_community.document_loaders import WebBaseLoader\n",
    "loader = WebBaseLoader(\"https://pubmed.ncbi.nlm.nih.gov/12160836/\")\n",
    "docs = loader.load()"
   ]
  },
  {
   "cell_type": "code",
   "execution_count": 11,
   "metadata": {},
   "outputs": [],
   "source": [
    "from langchain_community.embeddings import OllamaEmbeddings\n",
    "embeddings = OllamaEmbeddings()"
   ]
  },
  {
   "cell_type": "code",
   "execution_count": 12,
   "metadata": {},
   "outputs": [],
   "source": [
    "from langchain_community.vectorstores import FAISS\n",
    "from langchain_text_splitters import RecursiveCharacterTextSplitter\n",
    "\n",
    "\n",
    "text_splitter = RecursiveCharacterTextSplitter()\n",
    "documents = text_splitter.split_documents(docs)\n",
    "vector = FAISS.from_documents(documents, embeddings)"
   ]
  },
  {
   "cell_type": "code",
   "execution_count": 13,
   "metadata": {},
   "outputs": [],
   "source": [
    "from langchain_core.prompts import ChatPromptTemplate\n",
    "from langchain.chains.combine_documents import create_stuff_documents_chain\n",
    "\n",
    "prompt = ChatPromptTemplate.from_template(\"\"\"Answer the following question based only on the provided context:\n",
    "\n",
    "<context>\n",
    "{context}\n",
    "</context>\n",
    "\n",
    "Question: {input}\"\"\")\n",
    "\n",
    "document_chain = create_stuff_documents_chain(llm, prompt)"
   ]
  },
  {
   "cell_type": "code",
   "execution_count": 14,
   "metadata": {},
   "outputs": [
    {
     "name": "stdout",
     "output_type": "stream",
     "text": [
      "\n",
      "Stemness is a critical concept in cell biology that refers to the properties and characteristics of stem cells, which are cells that have the ability to self-renew (divide and produce more of the same type of cell) and differentiate (change into different types of cells). Stem cells are found in various tissues throughout the body, including bone marrow, blood, and organs.\n",
      "\n",
      "The concept of stemness encompasses several key features:\n",
      "\n",
      "1. Self-renewal: Stem cells can divide to produce more of the same type of cell, without differentiating into a different cell type. This property allows stem cells to maintain the tissue or organ's pool of cells.\n",
      "2. Multipotency: Stem cells have the ability to differentiate into multiple cell types within a given tissue or organ. For example, blood stem cells can differentiate into red blood cells, white blood cells, and platelets.\n",
      "3. Pluripotency: This refers to the ability of stem cells to differentiate into any cell type in the body. Embryonic stem cells are an example of pluripotent stem cells.\n",
      "4. Incorporation of exogenous factors: Stem cells can incorporate signals from their microenvironment, such as growth factors or hormones, to direct their differentiation.\n",
      "5. Epigenetic regulation: Stem cells have the ability to modulate their gene expression in response to environmental cues, which is crucial for maintaining tissue homeostasis.\n",
      "6. Quiescence: Some stem cells can exist in a quiescent state, meaning they are not dividing at that particular time. This property helps maintain tissue homeostasis and prevent excessive cell division.\n",
      "7. Slow cycling: Stem cells can divide slowly compared to other cells, which allows them to maintain their pool of cells without rapidly depleting the tissue's resources.\n",
      "8. Cell-cell interactions: Stem cells interact with other cells in the tissue or organ, influencing their behavior and maintenance of tissue homeostasis.\n",
      "9. Heterogeneity: Stem cells within a given tissue or organ can be heterogeneous, meaning they have different properties and gene expression profiles. This property allows for the generation of diverse cell lineages.\n",
      "10. Lineage commitment: The process by which stem cells become committed to a specific lineage or cell type is critical for tissue development and homeostasis.\n",
      "\n",
      "Understanding the concept of stemness is essential in understanding how tissues and organs develop, maintain their function, and respond to injury or disease. Dysregulation of stem cell properties can lead to various diseases and disorders, such as cancer, infertility, and immune disorders.\n"
     ]
    }
   ],
   "source": [
    "from langchain_core.documents import Document\n",
    "from langchain.chains import create_retrieval_chain\n",
    "\n",
    "retriever = vector.as_retriever()\n",
    "retrieval_chain = create_retrieval_chain(retriever, document_chain)\n",
    "\n",
    "response = retrieval_chain.invoke({\"input\": \"Please explain the concept of stemness to me!\"})\n",
    "print(response[\"answer\"])\n"
   ]
  },
  {
   "cell_type": "markdown",
   "metadata": {},
   "source": [
    "## Use RAG for getting information about a specific article"
   ]
  },
  {
   "cell_type": "code",
   "execution_count": 15,
   "metadata": {},
   "outputs": [
    {
     "name": "stdout",
     "output_type": "stream",
     "text": [
      "I'm not able to provide information on specific individuals or their statements without proper context and sources. As a responsible AI language model, I must rely on credible and trustworthy sources of information to ensure accuracy and avoid spreading misinformation.\n",
      "\n",
      "If you have any further questions or concerns, please feel free to ask!\n"
     ]
    }
   ],
   "source": [
    "result = llm.invoke(\"What did Lutz Leichsenring tell the German broadcaster DW?\")\n",
    "print(result)\n"
   ]
  },
  {
   "cell_type": "code",
   "execution_count": 16,
   "metadata": {},
   "outputs": [],
   "source": [
    "loader = WebBaseLoader(\"https://www.theguardian.com/world/2024/mar/15/berlins-techno-scene-added-to-unesco-intangible-cultural-heritage-list\")\n",
    "docs = loader.load()\n",
    "documents = text_splitter.split_documents(docs)\n",
    "vector = FAISS.from_documents(documents, embeddings)"
   ]
  },
  {
   "cell_type": "code",
   "execution_count": 17,
   "metadata": {},
   "outputs": [
    {
     "name": "stdout",
     "output_type": "stream",
     "text": [
      "Lutz Leichsenring told the German broadcaster DW that the decision to add Berlin's techno scene to Germany's list of intangible cultural heritage will help ensure that club culture is recognized as a valuable sector worthy of protection and support.\n"
     ]
    }
   ],
   "source": [
    "retriever = vector.as_retriever()\n",
    "retrieval_chain = create_retrieval_chain(retriever, document_chain)\n",
    "\n",
    "response = retrieval_chain.invoke({\"input\": \"What did Lutz Leichsenring tell the German broadcaster DW?\"})\n",
    "print(response[\"answer\"])\n"
   ]
  },
  {
   "cell_type": "code",
   "execution_count": null,
   "metadata": {},
   "outputs": [],
   "source": []
  }
 ],
 "metadata": {
  "kernelspec": {
   "display_name": "Python 3 (ipykernel)",
   "language": "python",
   "name": "python3"
  },
  "language_info": {
   "codemirror_mode": {
    "name": "ipython",
    "version": 3
   },
   "file_extension": ".py",
   "mimetype": "text/x-python",
   "name": "python",
   "nbconvert_exporter": "python",
   "pygments_lexer": "ipython3",
   "version": "3.12.2"
  }
 },
 "nbformat": 4,
 "nbformat_minor": 4
}
